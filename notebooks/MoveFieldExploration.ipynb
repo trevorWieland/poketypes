{
 "cells": [
  {
   "cell_type": "code",
   "execution_count": 1,
   "id": "c489a801-620e-4b1d-b16c-98dfe0e49627",
   "metadata": {},
   "outputs": [],
   "source": [
    "import json\n",
    "import sys\n",
    "sys.path.append(\"../\")\n",
    "\n",
    "import poketypes"
   ]
  },
  {
   "cell_type": "code",
   "execution_count": 12,
   "id": "54013d31-ed0a-49e9-b35a-e2f0694da635",
   "metadata": {},
   "outputs": [
    {
     "data": {
      "text/plain": [
       "{('accuracy', bool),\n",
       " ('accuracy', int),\n",
       " ('basePower', int),\n",
       " ('basePowerCallback', str),\n",
       " ('beforeMoveCallback', str),\n",
       " ('beforeTurnCallback', str),\n",
       " ('boosts', dict),\n",
       " ('breaksProtect', bool),\n",
       " ('category', str),\n",
       " ('condition', dict),\n",
       " ('contestType', str),\n",
       " ('critRatio', int),\n",
       " ('damage', int),\n",
       " ('damage', str),\n",
       " ('damageCallback', str),\n",
       " ('drain', list),\n",
       " ('flags', dict),\n",
       " ('forceSwitch', bool),\n",
       " ('hasCrashDamage', bool),\n",
       " ('hasSheerForce', bool),\n",
       " ('heal', list),\n",
       " ('ignoreAbility', bool),\n",
       " ('ignoreDefensive', bool),\n",
       " ('ignoreEvasion', bool),\n",
       " ('ignoreImmunity', bool),\n",
       " ('ignoreImmunity', dict),\n",
       " ('isMax', bool),\n",
       " ('isMax', str),\n",
       " ('isNonstandard', str),\n",
       " ('isZ', str),\n",
       " ('maxMove', dict),\n",
       " ('mindBlownRecoil', bool),\n",
       " ('multiaccuracy', bool),\n",
       " ('multihit', int),\n",
       " ('multihit', list),\n",
       " ('name', str),\n",
       " ('noMetronome', list),\n",
       " ('noPPBoosts', bool),\n",
       " ('noSketch', bool),\n",
       " ('nonGhostTarget', str),\n",
       " ('num', int),\n",
       " ('ohko', bool),\n",
       " ('ohko', str),\n",
       " ('onAfterHit', str),\n",
       " ('onAfterMove', str),\n",
       " ('onAfterMoveSecondarySelf', str),\n",
       " ('onAfterSubDamage', str),\n",
       " ('onBasePower', str),\n",
       " ('onDamage', str),\n",
       " ('onDamagePriority', int),\n",
       " ('onDisableMove', str),\n",
       " ('onEffectiveness', str),\n",
       " ('onHit', str),\n",
       " ('onHitField', str),\n",
       " ('onHitSide', str),\n",
       " ('onModifyMove', str),\n",
       " ('onModifyPriority', str),\n",
       " ('onModifyTarget', str),\n",
       " ('onModifyType', str),\n",
       " ('onMoveFail', str),\n",
       " ('onPrepareHit', str),\n",
       " ('onTry', str),\n",
       " ('onTryHit', str),\n",
       " ('onTryImmunity', str),\n",
       " ('onTryMove', str),\n",
       " ('onUseMoveMessage', str),\n",
       " ('overrideDefensiveStat', str),\n",
       " ('overrideOffensivePokemon', str),\n",
       " ('overrideOffensiveStat', str),\n",
       " ('pp', int),\n",
       " ('priority', int),\n",
       " ('priorityChargeCallback', str),\n",
       " ('pseudoWeather', str),\n",
       " ('realMove', str),\n",
       " ('recoil', list),\n",
       " ('secondaries', list),\n",
       " ('secondary', NoneType),\n",
       " ('secondary', dict),\n",
       " ('self', dict),\n",
       " ('selfBoost', dict),\n",
       " ('selfSwitch', bool),\n",
       " ('selfSwitch', str),\n",
       " ('selfdestruct', str),\n",
       " ('sideCondition', str),\n",
       " ('sleepUsable', bool),\n",
       " ('slotCondition', str),\n",
       " ('smartTarget', bool),\n",
       " ('stallingMove', bool),\n",
       " ('status', str),\n",
       " ('stealsBoosts', bool),\n",
       " ('struggleRecoil', bool),\n",
       " ('target', str),\n",
       " ('terrain', str),\n",
       " ('thawsTarget', bool),\n",
       " ('tracksTarget', bool),\n",
       " ('type', str),\n",
       " ('volatileStatus', str),\n",
       " ('weather', str),\n",
       " ('willCrit', bool),\n",
       " ('zMove', dict)}"
      ]
     },
     "execution_count": 12,
     "metadata": {},
     "output_type": "execute_result"
    }
   ],
   "source": [
    "with open(f\"../poketypes/protos/json/gen9_moves.json\", \"r\", encoding=\"utf-8\") as f:\n",
    "    data = json.load(f)\n",
    "\n",
    "key_types = set()\n",
    "flag_types = set()\n",
    "target_types = set()\n",
    "\n",
    "for move, move_dict in data.items():\n",
    "    key_types |= set([(k, type(v)) for k,v in move_dict.items()])\n",
    "    flag_types |= set([(k, v) for k,v in move_dict.get(\"flags\", {}).items()])\n",
    "    target_types |= set([move_dict.get(\"target\", \"\")])\n",
    "\n",
    "key_types"
   ]
  },
  {
   "cell_type": "code",
   "execution_count": 6,
   "id": "013d0811-2576-404a-a70b-19eabbff0127",
   "metadata": {},
   "outputs": [
    {
     "data": {
      "text/plain": [
       "{('allyanim', 1),\n",
       " ('bite', 1),\n",
       " ('bullet', 1),\n",
       " ('bypasssub', 1),\n",
       " ('cantusetwice', 1),\n",
       " ('charge', 1),\n",
       " ('contact', 1),\n",
       " ('dance', 1),\n",
       " ('defrost', 1),\n",
       " ('distance', 1),\n",
       " ('failcopycat', 1),\n",
       " ('failencore', 1),\n",
       " ('failinstruct', 1),\n",
       " ('failmefirst', 1),\n",
       " ('failmimic', 1),\n",
       " ('futuremove', 1),\n",
       " ('gravity', 1),\n",
       " ('heal', 1),\n",
       " ('mirror', 1),\n",
       " ('mustpressure', 1),\n",
       " ('noassist', 1),\n",
       " ('nonsky', 1),\n",
       " ('noparentalbond', 1),\n",
       " ('nosleeptalk', 1),\n",
       " ('pledgecombo', 1),\n",
       " ('powder', 1),\n",
       " ('protect', 1),\n",
       " ('pulse', 1),\n",
       " ('punch', 1),\n",
       " ('recharge', 1),\n",
       " ('reflectable', 1),\n",
       " ('slicing', 1),\n",
       " ('snatch', 1),\n",
       " ('sound', 1),\n",
       " ('wind', 1)}"
      ]
     },
     "execution_count": 6,
     "metadata": {},
     "output_type": "execute_result"
    }
   ],
   "source": [
    "flag_types"
   ]
  },
  {
   "cell_type": "code",
   "execution_count": 11,
   "id": "90f5990a-e936-4a5c-9948-e72c582f6a59",
   "metadata": {},
   "outputs": [
    {
     "name": "stdout",
     "output_type": "stream",
     "text": [
      "flag_allyanim: bool = Field(False, description='MOVE FLAG: allyanim')\n",
      "flag_bite: bool = Field(False, description='MOVE FLAG: bite')\n",
      "flag_bullet: bool = Field(False, description='MOVE FLAG: bullet')\n",
      "flag_bypasssub: bool = Field(False, description='MOVE FLAG: bypasssub')\n",
      "flag_cantusetwice: bool = Field(False, description='MOVE FLAG: cantusetwice')\n",
      "flag_charge: bool = Field(False, description='MOVE FLAG: charge')\n",
      "flag_contact: bool = Field(False, description='MOVE FLAG: contact')\n",
      "flag_dance: bool = Field(False, description='MOVE FLAG: dance')\n",
      "flag_defrost: bool = Field(False, description='MOVE FLAG: defrost')\n",
      "flag_distance: bool = Field(False, description='MOVE FLAG: distance')\n",
      "flag_failcopycat: bool = Field(False, description='MOVE FLAG: failcopycat')\n",
      "flag_failencore: bool = Field(False, description='MOVE FLAG: failencore')\n",
      "flag_failinstruct: bool = Field(False, description='MOVE FLAG: failinstruct')\n",
      "flag_failmefirst: bool = Field(False, description='MOVE FLAG: failmefirst')\n",
      "flag_failmimic: bool = Field(False, description='MOVE FLAG: failmimic')\n",
      "flag_futuremove: bool = Field(False, description='MOVE FLAG: futuremove')\n",
      "flag_gravity: bool = Field(False, description='MOVE FLAG: gravity')\n",
      "flag_heal: bool = Field(False, description='MOVE FLAG: heal')\n",
      "flag_mirror: bool = Field(False, description='MOVE FLAG: mirror')\n",
      "flag_mustpressure: bool = Field(False, description='MOVE FLAG: mustpressure')\n",
      "flag_noassist: bool = Field(False, description='MOVE FLAG: noassist')\n",
      "flag_nonsky: bool = Field(False, description='MOVE FLAG: nonsky')\n",
      "flag_noparentalbond: bool = Field(False, description='MOVE FLAG: noparentalbond')\n",
      "flag_nosleeptalk: bool = Field(False, description='MOVE FLAG: nosleeptalk')\n",
      "flag_pledgecombo: bool = Field(False, description='MOVE FLAG: pledgecombo')\n",
      "flag_powder: bool = Field(False, description='MOVE FLAG: powder')\n",
      "flag_protect: bool = Field(False, description='MOVE FLAG: protect')\n",
      "flag_pulse: bool = Field(False, description='MOVE FLAG: pulse')\n",
      "flag_punch: bool = Field(False, description='MOVE FLAG: punch')\n",
      "flag_recharge: bool = Field(False, description='MOVE FLAG: recharge')\n",
      "flag_reflectable: bool = Field(False, description='MOVE FLAG: reflectable')\n",
      "flag_slicing: bool = Field(False, description='MOVE FLAG: slicing')\n",
      "flag_snatch: bool = Field(False, description='MOVE FLAG: snatch')\n",
      "flag_sound: bool = Field(False, description='MOVE FLAG: sound')\n",
      "flag_wind: bool = Field(False, description='MOVE FLAG: wind')\n"
     ]
    }
   ],
   "source": [
    "for f in sorted(list(flag_types)):\n",
    "    print(f\"flag_{f[0]}: bool = Field(False, description='MOVE FLAG: {f[0]}')\")"
   ]
  },
  {
   "cell_type": "code",
   "execution_count": 7,
   "id": "82cb5e0b-33f2-47c7-be5f-05f2c84481e9",
   "metadata": {},
   "outputs": [
    {
     "data": {
      "text/plain": [
       "{'adjacentAlly',\n",
       " 'adjacentAllyOrSelf',\n",
       " 'adjacentFoe',\n",
       " 'all',\n",
       " 'allAdjacent',\n",
       " 'allAdjacentFoes',\n",
       " 'allies',\n",
       " 'allySide',\n",
       " 'allyTeam',\n",
       " 'any',\n",
       " 'foeSide',\n",
       " 'normal',\n",
       " 'randomNormal',\n",
       " 'scripted',\n",
       " 'self'}"
      ]
     },
     "execution_count": 7,
     "metadata": {},
     "output_type": "execute_result"
    }
   ],
   "source": [
    "target_types"
   ]
  },
  {
   "cell_type": "code",
   "execution_count": null,
   "id": "20a3bd60-5831-4e96-baba-189f1da44e9b",
   "metadata": {},
   "outputs": [],
   "source": []
  }
 ],
 "metadata": {
  "kernelspec": {
   "display_name": "Python 3 (ipykernel)",
   "language": "python",
   "name": "python3"
  },
  "language_info": {
   "codemirror_mode": {
    "name": "ipython",
    "version": 3
   },
   "file_extension": ".py",
   "mimetype": "text/x-python",
   "name": "python",
   "nbconvert_exporter": "python",
   "pygments_lexer": "ipython3",
   "version": "3.12.0"
  }
 },
 "nbformat": 4,
 "nbformat_minor": 5
}
