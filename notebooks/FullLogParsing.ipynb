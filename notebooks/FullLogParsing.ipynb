{
 "cells": [
  {
   "cell_type": "code",
   "execution_count": 1,
   "id": "8b372a16-2503-491c-b210-cb5c647c8fa3",
   "metadata": {},
   "outputs": [],
   "source": [
    "from colressgpt.battledata.battlemessage import BattleMessage, BMType\n",
    "import pandas as pd\n",
    "from tqdm.auto import tqdm\n",
    "\n",
    "tqdm.pandas()"
   ]
  },
  {
   "cell_type": "code",
   "execution_count": null,
   "id": "5c5fc5b3-38b1-40a0-be24-73b6c8448797",
   "metadata": {
    "scrolled": true
   },
   "outputs": [
    {
     "name": "stdout",
     "output_type": "stream",
     "text": [
      "------------------------\n",
      "Reading lines from gen1randombattle log...\n",
      "Found 9806719 lines\n",
      "Dropping Total duplicates...\n",
      "Parsing messages to BattleMessage format...\n"
     ]
    },
    {
     "data": {
      "application/vnd.jupyter.widget-view+json": {
       "model_id": "3e99db837e6b429ba95faca4917786b7",
       "version_major": 2,
       "version_minor": 0
      },
      "text/plain": [
       "  0%|          | 0/1563057 [00:00<?, ?it/s]"
      ]
     },
     "metadata": {},
     "output_type": "display_data"
    }
   ],
   "source": [
    "formats = [f\"gen{i}randombattle\" for i in range(1, 10)] + [f\"gen{i}randomdoubles\" for i in range(1, 10)]\n",
    "\n",
    "for format_name in formats:\n",
    "    print(\"------------------------\")\n",
    "    print(f\"Reading lines from {format_name} log...\")\n",
    "    with open(f\"logs/messagelogs/{format_name}_challenge_20000.log\", \"r\", encoding=\"utf8\") as f:\n",
    "        lines = [l.strip() for l in f.readlines() if len(l.strip()) > 1]\n",
    "    \n",
    "    print(f\"Found {len(lines)} lines\")\n",
    "    df = pd.DataFrame(columns=[\"RawMessage\"], data=lines)\n",
    "    \n",
    "    print(\"Dropping Total duplicates...\")\n",
    "    df = df.drop_duplicates().reset_index(drop=True)\n",
    "    \n",
    "    print(\"Parsing messages to BattleMessage format...\")\n",
    "    df[\"BattleMessage\"] = df[\"RawMessage\"].progress_apply(BattleMessage.from_message)\n",
    "    \n",
    "    df[\"BMType\"] = [bm.BMTYPE for bm in df[\"BattleMessage\"]]\n",
    "    df[\"BMErrorState\"] = [bm.ERR_STATE for bm in df[\"BattleMessage\"]]\n",
    "    \n",
    "    err_sum = df.shape[0] - df['BMErrorState'].isna().sum()\n",
    "    \n",
    "    print(f\"For format {format_name}, of the {df.shape[0]} unique lines, {err_sum} were errors!\")\n",
    "    print()\n",
    "    print()"
   ]
  },
  {
   "cell_type": "code",
   "execution_count": null,
   "id": "af31a764-8a23-4baf-9931-74d1760c8990",
   "metadata": {},
   "outputs": [],
   "source": []
  }
 ],
 "metadata": {
  "kernelspec": {
   "display_name": "Python 3 (ipykernel)",
   "language": "python",
   "name": "python3"
  },
  "language_info": {
   "codemirror_mode": {
    "name": "ipython",
    "version": 3
   },
   "file_extension": ".py",
   "mimetype": "text/x-python",
   "name": "python",
   "nbconvert_exporter": "python",
   "pygments_lexer": "ipython3",
   "version": "3.9.13"
  }
 },
 "nbformat": 4,
 "nbformat_minor": 5
}
